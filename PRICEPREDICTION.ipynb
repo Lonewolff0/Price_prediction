{
 "cells": [
  {
   "cell_type": "code",
   "execution_count": 2,
   "metadata": {},
   "outputs": [],
   "source": [
    "import pandas as pd\n",
    "import sklearn as sk\n",
    "import xlrd\n",
    "import datetime\n",
    "import numpy as np\n",
    "import random\n",
    "from sklearn.ensemble import RandomForestRegressor\n",
    "from sklearn.model_selection import train_test_split \n",
    "from sklearn.metrics import r2_score\n",
    "from sklearn.impute import SimpleImputer"
   ]
  },
  {
   "cell_type": "code",
   "execution_count": 3,
   "metadata": {},
   "outputs": [],
   "source": [
    "def dp(y):\n",
    "    f = []\n",
    "    for i in range(0,len(y)):\n",
    "        s = str(y[i])\n",
    "        d = str()\n",
    "        j =0\n",
    "        for j in range(len(s)):\n",
    "            if s[j]=='1' or s[j]=='2' or s[j]=='3'or s[j]=='4'or s[j]=='5'or s[j]=='6'or s[j]=='7'or s[j]=='8' or s[j]=='9'or s[j]=='0'or s[j]=='.':\n",
    "                d = d + s[j]\n",
    "            else:\n",
    "                pass\n",
    "        if len(d)==0:\n",
    "            d = '0'\n",
    "        f.append(d)\n",
    "    return f\n",
    "def dummies(x,df):\n",
    "    temp = pd.get_dummies(df[x], drop_first = True)\n",
    "    df = pd.concat([df, temp], axis = 1)\n",
    "    df.drop([x], axis = 1, inplace = True)\n",
    "    return df"
   ]
  },
  {
   "cell_type": "code",
   "execution_count": 4,
   "metadata": {},
   "outputs": [],
   "source": [
    "url='data/Data_Train.csv'\n",
    "train1 = url\n",
    "url = 'data/Data_Test.csv'\n",
    "test1 = url\n",
    "data = pd.read_excel(train1)\n",
    "data1 = pd.read_excel(test1)\n",
    "df = pd.DataFrame(data, columns = ['Name','Location','Year','Kilometers_Driven','Fuel_Type','Transmission','Owner_Type','Mileage','Engine','Power','Seats','Price'])\n",
    "df1=pd.DataFrame(data1, columns = ['Name','Location','Year','Kilometers_Driven','Fuel_Type','Transmission','Owner_Type','Mileage','Engine','Power','Seats'])\n",
    "y = df['Price']"
   ]
  },
  {
   "cell_type": "code",
   "execution_count": 5,
   "metadata": {},
   "outputs": [],
   "source": [
    "df['Mileage']=dp(df['Mileage'])\n",
    "df['Engine']=dp(df['Engine'])\n",
    "df['Power']=dp(df['Power'])\n",
    "company = df[\"Name\"].str.split(\" \", expand = True)\n",
    "df[\"company\"] = company[0]\n",
    "df = df.drop('Name',axis = 1)\n",
    "df = df.drop('Kilometers_Driven',axis = 1)\n",
    "df = df.drop('Location',axis = 1)\n",
    "df = df.drop('Price',axis = 1)\n",
    "currenttime = datetime.datetime.now()\n",
    "Ndf= []\n",
    "for i in range(len(df['Year'])):\n",
    "    Ndf.append(currenttime.year-df['Year'][i])\n",
    "df['Year']=Ndf\n",
    "df =pd.get_dummies(df,columns = [\"company\", \"Fuel_Type\", \"Transmission\", \"Owner_Type\",'Seats'],\n",
    "                         drop_first = True)"
   ]
  },
  {
   "cell_type": "code",
   "execution_count": 6,
   "metadata": {},
   "outputs": [],
   "source": [
    "CR = []\n",
    "for col in df.columns: \n",
    "     CR.append(col)"
   ]
  },
  {
   "cell_type": "code",
   "execution_count": 6,
   "metadata": {},
   "outputs": [
    {
     "data": {
      "text/plain": [
       "SimpleImputer(copy=True, fill_value=None, missing_values=nan, strategy='mean',\n",
       "       verbose=0)"
      ]
     },
     "execution_count": 6,
     "metadata": {},
     "output_type": "execute_result"
    }
   ],
   "source": [
    "imp = SimpleImputer(missing_values=np.nan, strategy='mean')\n",
    "imp.fit(df)\n",
    "imp = SimpleImputer(missing_values=np.nan, strategy='mean')\n",
    "imp.fit(df)"
   ]
  },
  {
   "cell_type": "code",
   "execution_count": 7,
   "metadata": {},
   "outputs": [
    {
     "name": "stdout",
     "output_type": "stream",
     "text": [
      "ACCURACY: 0.9052955185805757\n"
     ]
    }
   ],
   "source": [
    "X_train, X_test, y_train, y_test =train_test_split(df,y, test_size= 0.25, random_state=100)\n",
    "rf = RandomForestRegressor(n_estimators = 100)\n",
    "rf.fit(X_train, y_train)\n",
    "y_pred = rf.predict(X_test)\n",
    "print('ACCURACY: ' + str(r2_score(y_test, y_pred)))"
   ]
  },
  {
   "cell_type": "code",
   "execution_count": 8,
   "metadata": {},
   "outputs": [],
   "source": [
    "df =pd.DataFrame(data1, columns = ['Name','Location','Year','Kilometers_Driven','Fuel_Type','Transmission','Owner_Type','Mileage','Engine','Power','Seats'])\n",
    "df['Mileage']=dp(df['Mileage'])\n",
    "df['Engine']=dp(df['Engine'])\n",
    "df['Power']=dp(df['Power'])\n",
    "company = df[\"Name\"].str.split(\" \", expand = True)\n",
    "df[\"company\"] = company[0]\n",
    "df = df.drop('Name',axis = 1)\n",
    "df = df.drop('Kilometers_Driven',axis = 1)\n",
    "df = df.drop('Location',axis = 1)\n",
    "currenttime = datetime.datetime.now()\n",
    "Ndf= []\n",
    "for i in range(len(df['Year'])):\n",
    "    Ndf.append(currenttime.year-df['Year'][i])\n",
    "df['Year']=Ndf\n",
    "df =pd.get_dummies(df,columns = [\"company\", \"Fuel_Type\", \"Transmission\", \"Owner_Type\",'Seats'],\n",
    "                         drop_first = True)"
   ]
  },
  {
   "cell_type": "code",
   "execution_count": 9,
   "metadata": {},
   "outputs": [],
   "source": [
    "CR1 = []\n",
    "for col in df.columns: \n",
    "     CR1.append(col)\n",
    "main_list = np.setdiff1d(CR1,CR)\n",
    "for i in range(len(main_list)):\n",
    "    df= df.drop(main_list[i],axis = 1)\n",
    "main_list = np.setdiff1d(CR,CR1)\n",
    "for i in range(len(main_list)):\n",
    "    zera = [0] * len(df['Year'])\n",
    "    df[main_list[i]]=zera"
   ]
  },
  {
   "cell_type": "code",
   "execution_count": 10,
   "metadata": {},
   "outputs": [
    {
     "data": {
      "text/plain": [
       "array([ 3.62186955,  2.63523167, 19.54544151, ...,  2.66763333,\n",
       "        4.48337714, 23.154305  ])"
      ]
     },
     "execution_count": 10,
     "metadata": {},
     "output_type": "execute_result"
    }
   ],
   "source": [
    "rf.predict(df)"
   ]
  },
  {
   "cell_type": "code",
   "execution_count": 9,
   "metadata": {},
   "outputs": [
    {
     "data": {
      "text/plain": [
       "0        1.75\n",
       "1       12.50\n",
       "2        4.50\n",
       "3        6.00\n",
       "4       17.74\n",
       "        ...  \n",
       "6014     4.75\n",
       "6015     4.00\n",
       "6016     2.90\n",
       "6017     2.65\n",
       "6018     2.50\n",
       "Name: Price, Length: 6019, dtype: float64"
      ]
     },
     "execution_count": 9,
     "metadata": {},
     "output_type": "execute_result"
    }
   ],
   "source": [
    "y"
   ]
  },
  {
   "cell_type": "code",
   "execution_count": null,
   "metadata": {},
   "outputs": [],
   "source": []
  }
 ],
 "metadata": {
  "kernelspec": {
   "display_name": "Python",
   "language": "python",
   "name": "conda-env-python-py"
  },
  "language_info": {
   "codemirror_mode": {
    "name": "ipython",
    "version": 3
   },
   "file_extension": ".py",
   "mimetype": "text/x-python",
   "name": "python",
   "nbconvert_exporter": "python",
   "pygments_lexer": "ipython3",
   "version": "3.6.13"
  }
 },
 "nbformat": 4,
 "nbformat_minor": 4
}
